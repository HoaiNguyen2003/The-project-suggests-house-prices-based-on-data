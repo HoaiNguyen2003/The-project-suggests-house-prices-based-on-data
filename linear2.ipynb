{
 "cells": [
  {
   "cell_type": "code",
   "execution_count": 54,
   "metadata": {},
   "outputs": [],
   "source": [
    "import pandas as pd\n",
    "from sklearn.linear_model import LinearRegression\n",
    "from sklearn.model_selection import train_test_split\n",
    "from sklearn.metrics import r2_score , mean_squared_error, mean_absolute_error\n",
    "from sklearn.preprocessing import LabelEncoder\n",
    "import matplotlib.pyplot as plt\n",
    "import seaborn as sns"
   ]
  },
  {
   "cell_type": "code",
   "execution_count": 55,
   "metadata": {},
   "outputs": [
    {
     "data": {
      "text/html": [
       "<div>\n",
       "<style scoped>\n",
       "    .dataframe tbody tr th:only-of-type {\n",
       "        vertical-align: middle;\n",
       "    }\n",
       "\n",
       "    .dataframe tbody tr th {\n",
       "        vertical-align: top;\n",
       "    }\n",
       "\n",
       "    .dataframe thead th {\n",
       "        text-align: right;\n",
       "    }\n",
       "</style>\n",
       "<table border=\"1\" class=\"dataframe\">\n",
       "  <thead>\n",
       "    <tr style=\"text-align: right;\">\n",
       "      <th></th>\n",
       "      <th>Mã tin</th>\n",
       "      <th>Loại BĐS</th>\n",
       "      <th>Khu vực</th>\n",
       "      <th>Địa chỉ</th>\n",
       "      <th>Diện tích (m2)</th>\n",
       "      <th>Pháp lý</th>\n",
       "      <th>Giá (tỷ)</th>\n",
       "      <th>Lộ giới (m)</th>\n",
       "      <th>Số lầu</th>\n",
       "      <th>Số phòng ngủ</th>\n",
       "      <th>Số điện thoại liên hệ</th>\n",
       "      <th>Link truy cập</th>\n",
       "    </tr>\n",
       "  </thead>\n",
       "  <tbody>\n",
       "    <tr>\n",
       "      <th>0</th>\n",
       "      <td>3500611</td>\n",
       "      <td>Nhà ngõ, hẻm</td>\n",
       "      <td>Hồ Chí Minh</td>\n",
       "      <td>Đường Nguyễn Ánh Thủ, Phường Trung Mỹ Tây, Qu...</td>\n",
       "      <td>80.0</td>\n",
       "      <td>Sổ hồng/ Sổ đỏ</td>\n",
       "      <td>6.99</td>\n",
       "      <td>6.0</td>\n",
       "      <td>3</td>\n",
       "      <td>4</td>\n",
       "      <td>0909.822.610</td>\n",
       "      <td>https://i-batdongsan.com/ban-nha-4-tang-nguyen...</td>\n",
       "    </tr>\n",
       "    <tr>\n",
       "      <th>1</th>\n",
       "      <td>4659719</td>\n",
       "      <td>Đất</td>\n",
       "      <td>Hà Nội</td>\n",
       "      <td>Đường Long Khánh, Thị trấn Trạm Trôi, Huyện H...</td>\n",
       "      <td>75.0</td>\n",
       "      <td>Sổ hồng/ Sổ đỏ</td>\n",
       "      <td>4.20</td>\n",
       "      <td>5.0</td>\n",
       "      <td>0</td>\n",
       "      <td>0</td>\n",
       "      <td>0914.773.359</td>\n",
       "      <td>https://i-batdongsan.com/ban-dat-o-khu-cao-tru...</td>\n",
       "    </tr>\n",
       "    <tr>\n",
       "      <th>2</th>\n",
       "      <td>4813510</td>\n",
       "      <td>Biệt thự</td>\n",
       "      <td>Hà Nội</td>\n",
       "      <td>Phường Văn Quán, Quận Hà Đông, Hà Nội</td>\n",
       "      <td>50.0</td>\n",
       "      <td>Sổ hồng/ Sổ đỏ</td>\n",
       "      <td>12.50</td>\n",
       "      <td>4.0</td>\n",
       "      <td>7</td>\n",
       "      <td>4</td>\n",
       "      <td>0944.723.177</td>\n",
       "      <td>https://i-batdongsan.com/-ban-toa-nha-mat-pho-...</td>\n",
       "    </tr>\n",
       "    <tr>\n",
       "      <th>3</th>\n",
       "      <td>4822936</td>\n",
       "      <td>Nhà mặt tiền</td>\n",
       "      <td>Hà Nội</td>\n",
       "      <td>Đường Ao Sen, Phường Mộ Lao, Quận Hà Đông, Hà...</td>\n",
       "      <td>50.0</td>\n",
       "      <td>Sổ hồng/ Sổ đỏ</td>\n",
       "      <td>7.20</td>\n",
       "      <td>4.0</td>\n",
       "      <td>6</td>\n",
       "      <td>10</td>\n",
       "      <td>0944.723.177</td>\n",
       "      <td>https://i-batdongsan.com/-ban-nha-dong-tien-th...</td>\n",
       "    </tr>\n",
       "    <tr>\n",
       "      <th>4</th>\n",
       "      <td>4659316</td>\n",
       "      <td>Nhà ngõ, hẻm</td>\n",
       "      <td>Hồ Chí Minh</td>\n",
       "      <td>Đường Nguyễn Văn Lượng, Phường 10, Quận Gò Vấ...</td>\n",
       "      <td>55.0</td>\n",
       "      <td>Sổ hồng/ Sổ đỏ</td>\n",
       "      <td>5.25</td>\n",
       "      <td>6.0</td>\n",
       "      <td>1</td>\n",
       "      <td>2</td>\n",
       "      <td>0917.166.979</td>\n",
       "      <td>https://i-batdongsan.com/-go-vap-ban-gap-nha-d...</td>\n",
       "    </tr>\n",
       "  </tbody>\n",
       "</table>\n",
       "</div>"
      ],
      "text/plain": [
       "    Mã tin      Loại BĐS      Khu vực  \\\n",
       "0  3500611  Nhà ngõ, hẻm  Hồ Chí Minh   \n",
       "1  4659719           Đất       Hà Nội   \n",
       "2  4813510      Biệt thự       Hà Nội   \n",
       "3  4822936  Nhà mặt tiền       Hà Nội   \n",
       "4  4659316  Nhà ngõ, hẻm  Hồ Chí Minh   \n",
       "\n",
       "                                             Địa chỉ  Diện tích (m2)  \\\n",
       "0   Đường Nguyễn Ánh Thủ, Phường Trung Mỹ Tây, Qu...            80.0   \n",
       "1   Đường Long Khánh, Thị trấn Trạm Trôi, Huyện H...            75.0   \n",
       "2              Phường Văn Quán, Quận Hà Đông, Hà Nội            50.0   \n",
       "3   Đường Ao Sen, Phường Mộ Lao, Quận Hà Đông, Hà...            50.0   \n",
       "4   Đường Nguyễn Văn Lượng, Phường 10, Quận Gò Vấ...            55.0   \n",
       "\n",
       "          Pháp lý  Giá (tỷ)  Lộ giới (m)  Số lầu  Số phòng ngủ  \\\n",
       "0  Sổ hồng/ Sổ đỏ      6.99          6.0       3             4   \n",
       "1  Sổ hồng/ Sổ đỏ      4.20          5.0       0             0   \n",
       "2  Sổ hồng/ Sổ đỏ     12.50          4.0       7             4   \n",
       "3  Sổ hồng/ Sổ đỏ      7.20          4.0       6            10   \n",
       "4  Sổ hồng/ Sổ đỏ      5.25          6.0       1             2   \n",
       "\n",
       "  Số điện thoại liên hệ                                      Link truy cập  \n",
       "0          0909.822.610  https://i-batdongsan.com/ban-nha-4-tang-nguyen...  \n",
       "1          0914.773.359  https://i-batdongsan.com/ban-dat-o-khu-cao-tru...  \n",
       "2          0944.723.177  https://i-batdongsan.com/-ban-toa-nha-mat-pho-...  \n",
       "3          0944.723.177  https://i-batdongsan.com/-ban-nha-dong-tien-th...  \n",
       "4          0917.166.979  https://i-batdongsan.com/-go-vap-ban-gap-nha-d...  "
      ]
     },
     "execution_count": 55,
     "metadata": {},
     "output_type": "execute_result"
    }
   ],
   "source": [
    "df = pd.read_csv('dd.csv')\n",
    "df.head()"
   ]
  },
  {
   "cell_type": "code",
   "execution_count": 56,
   "metadata": {},
   "outputs": [
    {
     "data": {
      "text/plain": [
       "Index(['Diện tích (m2)', 'Lộ giới (m)', 'Số lầu', 'Số phòng ngủ'], dtype='object')"
      ]
     },
     "execution_count": 56,
     "metadata": {},
     "output_type": "execute_result"
    }
   ],
   "source": [
    "num_cols = df.select_dtypes(include=['int64', 'float64']).columns\n",
    "num_cols = num_cols.drop('Mã tin')\n",
    "num_cols = num_cols.drop('Giá (tỷ)')\n",
    "num_cols"
   ]
  },
  {
   "cell_type": "code",
   "execution_count": 57,
   "metadata": {},
   "outputs": [],
   "source": [
    "import numpy as np"
   ]
  },
  {
   "cell_type": "code",
   "execution_count": 58,
   "metadata": {},
   "outputs": [],
   "source": [
    "values = df['Giá (tỷ)'].values\n",
    "\n",
    "# Tính Q1, Q3, IQR\n",
    "Q1 = np.percentile(values, 25)\n",
    "Q3 = np.percentile(values, 75)\n",
    "IQR = Q3 - Q1\n",
    "\n",
    "# Lọc các giá trị ngoài khoảng [Q1 - 1.5*IQR, Q3 + 1.5*IQR]\n",
    "df = df[(values >= Q1 - 1.5*IQR) & (values <= Q3 + 1.5*IQR)]"
   ]
  },
  {
   "cell_type": "code",
   "execution_count": 59,
   "metadata": {},
   "outputs": [],
   "source": [
    "df = df[(df['Khu vực'] == 'Hà Nội') | (df['Khu vực'] == 'Thành phố Hồ Chí Minh')]\n",
    "\n",
    "# df = df[(df['Loại BĐS'] == 'Nhà mặt tiền')| (df['Loại BĐS'] == 'Nhà ngõ, hẻm')]"
   ]
  },
  {
   "cell_type": "code",
   "execution_count": 60,
   "metadata": {},
   "outputs": [],
   "source": [
    "X = df[num_cols]\n",
    "y = df['Giá (tỷ)']\n",
    "\n",
    "X_train, X_test, y_train, y_test = train_test_split(X, y, test_size=0.1, random_state=42)"
   ]
  },
  {
   "cell_type": "code",
   "execution_count": 61,
   "metadata": {},
   "outputs": [
    {
     "data": {
      "text/html": [
       "<style>#sk-container-id-6 {color: black;}#sk-container-id-6 pre{padding: 0;}#sk-container-id-6 div.sk-toggleable {background-color: white;}#sk-container-id-6 label.sk-toggleable__label {cursor: pointer;display: block;width: 100%;margin-bottom: 0;padding: 0.3em;box-sizing: border-box;text-align: center;}#sk-container-id-6 label.sk-toggleable__label-arrow:before {content: \"▸\";float: left;margin-right: 0.25em;color: #696969;}#sk-container-id-6 label.sk-toggleable__label-arrow:hover:before {color: black;}#sk-container-id-6 div.sk-estimator:hover label.sk-toggleable__label-arrow:before {color: black;}#sk-container-id-6 div.sk-toggleable__content {max-height: 0;max-width: 0;overflow: hidden;text-align: left;background-color: #f0f8ff;}#sk-container-id-6 div.sk-toggleable__content pre {margin: 0.2em;color: black;border-radius: 0.25em;background-color: #f0f8ff;}#sk-container-id-6 input.sk-toggleable__control:checked~div.sk-toggleable__content {max-height: 200px;max-width: 100%;overflow: auto;}#sk-container-id-6 input.sk-toggleable__control:checked~label.sk-toggleable__label-arrow:before {content: \"▾\";}#sk-container-id-6 div.sk-estimator input.sk-toggleable__control:checked~label.sk-toggleable__label {background-color: #d4ebff;}#sk-container-id-6 div.sk-label input.sk-toggleable__control:checked~label.sk-toggleable__label {background-color: #d4ebff;}#sk-container-id-6 input.sk-hidden--visually {border: 0;clip: rect(1px 1px 1px 1px);clip: rect(1px, 1px, 1px, 1px);height: 1px;margin: -1px;overflow: hidden;padding: 0;position: absolute;width: 1px;}#sk-container-id-6 div.sk-estimator {font-family: monospace;background-color: #f0f8ff;border: 1px dotted black;border-radius: 0.25em;box-sizing: border-box;margin-bottom: 0.5em;}#sk-container-id-6 div.sk-estimator:hover {background-color: #d4ebff;}#sk-container-id-6 div.sk-parallel-item::after {content: \"\";width: 100%;border-bottom: 1px solid gray;flex-grow: 1;}#sk-container-id-6 div.sk-label:hover label.sk-toggleable__label {background-color: #d4ebff;}#sk-container-id-6 div.sk-serial::before {content: \"\";position: absolute;border-left: 1px solid gray;box-sizing: border-box;top: 0;bottom: 0;left: 50%;z-index: 0;}#sk-container-id-6 div.sk-serial {display: flex;flex-direction: column;align-items: center;background-color: white;padding-right: 0.2em;padding-left: 0.2em;position: relative;}#sk-container-id-6 div.sk-item {position: relative;z-index: 1;}#sk-container-id-6 div.sk-parallel {display: flex;align-items: stretch;justify-content: center;background-color: white;position: relative;}#sk-container-id-6 div.sk-item::before, #sk-container-id-6 div.sk-parallel-item::before {content: \"\";position: absolute;border-left: 1px solid gray;box-sizing: border-box;top: 0;bottom: 0;left: 50%;z-index: -1;}#sk-container-id-6 div.sk-parallel-item {display: flex;flex-direction: column;z-index: 1;position: relative;background-color: white;}#sk-container-id-6 div.sk-parallel-item:first-child::after {align-self: flex-end;width: 50%;}#sk-container-id-6 div.sk-parallel-item:last-child::after {align-self: flex-start;width: 50%;}#sk-container-id-6 div.sk-parallel-item:only-child::after {width: 0;}#sk-container-id-6 div.sk-dashed-wrapped {border: 1px dashed gray;margin: 0 0.4em 0.5em 0.4em;box-sizing: border-box;padding-bottom: 0.4em;background-color: white;}#sk-container-id-6 div.sk-label label {font-family: monospace;font-weight: bold;display: inline-block;line-height: 1.2em;}#sk-container-id-6 div.sk-label-container {text-align: center;}#sk-container-id-6 div.sk-container {/* jupyter's `normalize.less` sets `[hidden] { display: none; }` but bootstrap.min.css set `[hidden] { display: none !important; }` so we also need the `!important` here to be able to override the default hidden behavior on the sphinx rendered scikit-learn.org. See: https://github.com/scikit-learn/scikit-learn/issues/21755 */display: inline-block !important;position: relative;}#sk-container-id-6 div.sk-text-repr-fallback {display: none;}</style><div id=\"sk-container-id-6\" class=\"sk-top-container\"><div class=\"sk-text-repr-fallback\"><pre>LinearRegression()</pre><b>In a Jupyter environment, please rerun this cell to show the HTML representation or trust the notebook. <br />On GitHub, the HTML representation is unable to render, please try loading this page with nbviewer.org.</b></div><div class=\"sk-container\" hidden><div class=\"sk-item\"><div class=\"sk-estimator sk-toggleable\"><input class=\"sk-toggleable__control sk-hidden--visually\" id=\"sk-estimator-id-6\" type=\"checkbox\" checked><label for=\"sk-estimator-id-6\" class=\"sk-toggleable__label sk-toggleable__label-arrow\">LinearRegression</label><div class=\"sk-toggleable__content\"><pre>LinearRegression()</pre></div></div></div></div></div>"
      ],
      "text/plain": [
       "LinearRegression()"
      ]
     },
     "execution_count": 61,
     "metadata": {},
     "output_type": "execute_result"
    }
   ],
   "source": [
    "lr = LinearRegression()\n",
    "lr.fit(X_train, y_train)"
   ]
  },
  {
   "cell_type": "code",
   "execution_count": 62,
   "metadata": {},
   "outputs": [
    {
     "name": "stdout",
     "output_type": "stream",
     "text": [
      "MSE: 99.64111479902544\n",
      "R-squared: 0.4365049811031376\n"
     ]
    }
   ],
   "source": [
    "y_pred = lr.predict(X_test)\n",
    "\n",
    "mse = mean_squared_error(y_test, y_pred) \n",
    "r2 = r2_score(y_test, y_pred)\n",
    "\n",
    "print('MSE:', mse)\n",
    "print('R-squared:', r2)"
   ]
  },
  {
   "cell_type": "code",
   "execution_count": 63,
   "metadata": {},
   "outputs": [
    {
     "data": {
      "image/png": "[encoded data removed]",
      "text/plain": [
       "<Figure size 640x480 with 1 Axes>"
      ]
     },
     "metadata": {},
     "output_type": "display_data"
    }
   ],
   "source": [
    "ax = sns.regplot(x=y_pred, y=y_test, color='blue') \n",
    "\n",
    "ax.lines[0].set_color('red')\n",
    "\n",
    "ax.set(xlabel='Giá dự đoán', ylabel='Giá thực tế')\n",
    "plt.show(\"Giá thực tế\")"
   ]
  }
 ],
 "metadata": {
  "kernelspec": {
   "display_name": "Python 3",
   "language": "python",
   "name": "python3"
  },
  "language_info": {
   "codemirror_mode": {
    "name": "ipython",
    "version": 3
   },
   "file_extension": ".py",
   "mimetype": "text/x-python",
   "name": "python",
   "nbconvert_exporter": "python",
   "pygments_lexer": "ipython3",
   "version": "3.11.6"
  },
  "orig_nbformat": 4
 },
 "nbformat": 4,
 "nbformat_minor": 2
}
